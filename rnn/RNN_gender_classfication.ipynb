{
 "cells": [
  {
   "cell_type": "markdown",
   "metadata": {},
   "source": [
    "## RNN을 통해 성별 예측하기"
   ]
  },
  {
   "cell_type": "code",
   "execution_count": 17,
   "metadata": {},
   "outputs": [],
   "source": [
    "import pandas as pd\n",
    "import torch.nn as nn"
   ]
  },
  {
   "cell_type": "code",
   "execution_count": 18,
   "metadata": {},
   "outputs": [],
   "source": [
    "df = pd.read_csv('../data/name_gender_filtered.csv')"
   ]
  },
  {
   "cell_type": "markdown",
   "metadata": {},
   "source": [
    "#### 전처리"
   ]
  },
  {
   "cell_type": "code",
   "execution_count": 19,
   "metadata": {},
   "outputs": [
    {
     "name": "stdout",
     "output_type": "stream",
     "text": [
      "abcdefghijklmnopqrstuvwxyz\n"
     ]
    }
   ],
   "source": [
    "unique_chars = set() #중복되지 않는 문자들을 저장할 집합\n",
    "\n",
    "for name in df['Name']:\n",
    "    unique_chars.update(name)\n",
    "unique_chars = sorted(list(unique_chars)) #문자들을 정렬\n",
    "unique_chars = ''.join(unique_chars) #문자들을 하나의 문자열로 결합\n",
    "print(unique_chars)"
   ]
  },
  {
   "cell_type": "markdown",
   "metadata": {},
   "source": [
    "#### 원핫 인코딩"
   ]
  },
  {
   "cell_type": "code",
   "execution_count": 20,
   "metadata": {},
   "outputs": [],
   "source": [
    "n_letters = len(unique_chars) #26개의 문자들을 가지고 있음\n",
    "\n",
    "def nameToTensor(name):\n",
    "    tensor = torch.zeros(len(name), n_letters) #크기: [4, 26]\n",
    "    for char_idx, char in enumerate(name):\n",
    "        #print(char_idx, char)∆\n",
    "        letter_idx = unique_chars.find(char)\n",
    "        #print(char, letter_idx)\n",
    "        assert letter_idx != -1, f\"char is {name}, {char}\"\n",
    "        tensor[char_idx][letter_idx] = 1\n",
    "    return tensor"
   ]
  },
  {
   "cell_type": "code",
   "execution_count": 21,
   "metadata": {},
   "outputs": [
    {
     "data": {
      "text/plain": [
       "tensor([[0., 0., 0., 0., 0., 0., 0., 0., 0., 1., 0., 0., 0., 0., 0., 0., 0., 0.,\n",
       "         0., 0., 0., 0., 0., 0., 0., 0.],\n",
       "        [0., 0., 0., 0., 0., 0., 0., 0., 0., 0., 0., 0., 0., 0., 1., 0., 0., 0.,\n",
       "         0., 0., 0., 0., 0., 0., 0., 0.],\n",
       "        [0., 0., 0., 0., 0., 0., 0., 1., 0., 0., 0., 0., 0., 0., 0., 0., 0., 0.,\n",
       "         0., 0., 0., 0., 0., 0., 0., 0.],\n",
       "        [0., 0., 0., 0., 0., 0., 0., 0., 0., 0., 0., 0., 0., 1., 0., 0., 0., 0.,\n",
       "         0., 0., 0., 0., 0., 0., 0., 0.]])"
      ]
     },
     "execution_count": 21,
     "metadata": {},
     "output_type": "execute_result"
    }
   ],
   "source": [
    "nameToTensor('john')"
   ]
  },
  {
   "cell_type": "markdown",
   "metadata": {},
   "source": [
    "### 모델 정의"
   ]
  },
  {
   "cell_type": "code",
   "execution_count": 24,
   "metadata": {},
   "outputs": [],
   "source": [
    "#i\n",
    "class MyRNN(nn.Module):\n",
    "    def __init__(self, input_size, hidden_size, output_size):\n",
    "        super().__init__()\n",
    "\n",
    "        self.hidden_size = hidden_size\n",
    "        # input to hidden size 정의(입력크기, 출력크기)\n",
    "        self.i2h = nn.Linear(input_size + hidden_size, hidden_size)\n",
    "        # input to output size 정의\n",
    "        self.i2o = nn.Linear(hidden_size, output_size)\n",
    "        \n",
    "\n",
    "    def forward(self, input, hidden):\n",
    "        combined = torch.cat((input, hidden), 1)\n",
    "        #활성화 함수로 tanh 사용(하이퍼볼릭 탄젠트)\n",
    "        hidden = torch.tanh(self.i2h(combined))\n",
    "        output = self.i2o(hidden)\n",
    "\n",
    "        return output, hidden\n",
    "        \n",
    "\n",
    "    def get_hidden(self):\n",
    "        return torch.zeros(1, self.hidden_size)"
   ]
  },
  {
   "cell_type": "code",
   "execution_count": 25,
   "metadata": {},
   "outputs": [],
   "source": [
    "n_hidden = 32\n",
    "rnn_model = MyRNN(n_letters, n_hidden, 2)"
   ]
  },
  {
   "cell_type": "markdown",
   "metadata": {},
   "source": [
    "### 학습"
   ]
  },
  {
   "cell_type": "code",
   "execution_count": 26,
   "metadata": {},
   "outputs": [],
   "source": [
    "import torch \n",
    "from torch.optim import Adam, SGD"
   ]
  },
  {
   "cell_type": "code",
   "execution_count": 27,
   "metadata": {},
   "outputs": [],
   "source": [
    "loss_fn = nn.CrossEntropyLoss()\n",
    "optimizer = Adam(rnn_model.parameters(), lr=0.001)"
   ]
  },
  {
   "cell_type": "code",
   "execution_count": 29,
   "metadata": {},
   "outputs": [
    {
     "data": {
      "text/plain": [
       "MyRNN(\n",
       "  (i2h): Linear(in_features=58, out_features=32, bias=True)\n",
       "  (i2o): Linear(in_features=32, out_features=2, bias=True)\n",
       ")"
      ]
     },
     "execution_count": 29,
     "metadata": {},
     "output_type": "execute_result"
    }
   ],
   "source": [
    "rnn_model.train()"
   ]
  },
  {
   "cell_type": "code",
   "execution_count": 58,
   "metadata": {},
   "outputs": [
    {
     "name": "stdout",
     "output_type": "stream",
     "text": [
      "Epoch: 0, Loss: 0.3897, Accuracy: 82.72%\n",
      "Epoch: 1, Loss: 0.3802, Accuracy: 83.19%\n"
     ]
    }
   ],
   "source": [
    "gen2num = {'F':0, 'M':1}\n",
    "num2gen = {0:'F', 1:'M'}\n",
    "\n",
    "for epoch_idx in range(100):\n",
    "    # CSV 데이터를 섞음 데이터의 순서를 무작위로 섞어서 학습 시 편향을 방지\n",
    "    # frac=1은 전체 데이터의 100%를 샘플링\n",
    "    # 섞인 후의 인덱스를 0부터 다시 순차적으로 설정\n",
    "    suffled_df = df.sample(frac=1).reset_index(drop=True) \n",
    "    #print(suffled_df)\n",
    "\n",
    "    total_loss = 0 #손실값을 저장할 변수\n",
    "    correct_predictions = 0 #정답을 맞춘 횟수를 저장할 변수\n",
    "    total_predictions = 0 #전체 예측 횟수를 저장할 변수\n",
    "\n",
    "    for index, row in suffled_df.iterrows():\n",
    "        input_tensor = nameToTensor(row['Name'])\n",
    "        #print(f\"Name: {row['Name']}, input_tensor: {input_tensor}\")\n",
    "\n",
    "        # 성별을 숫자로 변환 - 정답 레이블로 사용\n",
    "        target_tensor = torch.tensor([gen2num[row['Gender']]], dtype=torch.long)\n",
    "        #print(target_tensor)\n",
    "        hidden = rnn_model.get_hidden()\n",
    "        \n",
    "        rnn_model.zero_grad() #기울기 초기화\n",
    "\n",
    "        for char_idx in range(input_tensor.size()[0]):\n",
    "            char_tensor = input_tensor[char_idx] #한 문자를 텐서로 변환\n",
    "             #예측값과 은닉 상태를 반환 #None: 차원을 추가하여 2차원 텐서로 변환\n",
    "            output, hidden = rnn_model(char_tensor[None,:], hidden)\n",
    "            #print(output, hidden)\n",
    "\n",
    "        loss = loss_fn(output, target_tensor) #손실값 계산\n",
    "        loss.backward()\n",
    "        optimizer.step()\n",
    "\n",
    "        total_loss += loss.item() #손실값을 누적\n",
    "        predicted_index = torch.argmax(output[0]).item() #모델의 출력에서 가장 큰 값의 인덱스를 가져오는 코드\n",
    "        #print(target_tensor)\n",
    "        correct_predictions += (predicted_index == target_tensor).sum().item()  \n",
    "        total_predictions += 1\n",
    "    \n",
    "    average_loss = total_loss / total_predictions #평균 손실값 계산\n",
    "    accuracy = 100 * correct_predictions / total_predictions #정확도 = 100 * 정답을 맞춘 횟수 / 전체 예측 횟수\n",
    "    print(f'Epoch: {epoch_idx}, Loss: {average_loss:.4f}, Accuracy: {accuracy:.2f}%')\n",
    "\n",
    "\n",
    "\n",
    "\n",
    "\n",
    "\n",
    "\n",
    "\n"
   ]
  },
  {
   "cell_type": "markdown",
   "metadata": {},
   "source": [
    "### 테스트"
   ]
  },
  {
   "cell_type": "code",
   "execution_count": 76,
   "metadata": {},
   "outputs": [
    {
     "name": "stdout",
     "output_type": "stream",
     "text": [
      "F\n"
     ]
    }
   ],
   "source": [
    "test_name = 'elsa'\n",
    "test_name_tensor = nameToTensor(test_name)\n",
    "\n",
    "rnn_model.eval() #모델을 평가 모드로 전환\n",
    "hidden = rnn_model.get_hidden()\n",
    "\n",
    "for char_idx in range(test_name_tensor.size()[0]):\n",
    "    char_tensor = test_name_tensor[char_idx]\n",
    "    output, hidden = rnn_model(char_tensor[None,:], hidden)\n",
    "predicted_index = torch.argmax(output, 1).item()\n",
    "print(num2gen[predicted_index])"
   ]
  }
 ],
 "metadata": {
  "kernelspec": {
   "display_name": "dl-buildup-hxQy-j9U-py3.11",
   "language": "python",
   "name": "python3"
  },
  "language_info": {
   "codemirror_mode": {
    "name": "ipython",
    "version": 3
   },
   "file_extension": ".py",
   "mimetype": "text/x-python",
   "name": "python",
   "nbconvert_exporter": "python",
   "pygments_lexer": "ipython3",
   "version": "3.11.10"
  }
 },
 "nbformat": 4,
 "nbformat_minor": 2
}
